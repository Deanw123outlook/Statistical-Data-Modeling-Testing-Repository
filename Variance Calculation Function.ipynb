{
 "cells": [
  {
   "cell_type": "markdown",
   "metadata": {},
   "source": [
    "### Variance Calculation Function\n",
    "Variance\n",
    "\n",
    "First in order to find the average value of an arbitrary number of data-points we first add all numbers and divide by the the total number of datapoits. This calculates the average value.\n",
    "We calculate the difference between each individual datapoint from the calculated average value of all data points. We then square the difference and add together all these values. Finally we divide this value by the total number of arbitrary numbers.\n",
    "\n",
    "External research and calculations have been carried out to test and evaluate the accuracy of the below function. This confirmed that the developed function accurately calculates the variance of an arbitrary number of elements. "
   ]
  },
  {
   "cell_type": "code",
   "execution_count": 3,
   "metadata": {},
   "outputs": [],
   "source": [
    "#import libraries\n",
    "import numpy as np\n",
    "import pandas as pd\n",
    "import random"
   ]
  },
  {
   "cell_type": "code",
   "execution_count": 10,
   "metadata": {},
   "outputs": [],
   "source": [
    "def Varianc344(*args):\n",
    "    \"\"\"Manualy find the average of an arbitrary number of datapoints, followed by calculating the difference between each data\n",
    "    point and the average, followed by squaring the calculated differences and adding them up \"\"\"\n",
    "    #Create empty list\n",
    "    list1 = []\n",
    "    #Initialize sum all *args\n",
    "    sum_all = 0\n",
    "    #Accumulate the sum\n",
    "    for x in args:\n",
    "        sum_all += x\n",
    "    #Add all elements \n",
    "    for x in args:\n",
    "        list1.append(x)\n",
    "    #Find the list length (total count)\n",
    "    length = len(list1)\n",
    "    #Calculate the average\n",
    "    average = sum_all / length\n",
    "    list2 = []\n",
    "    list3 = []\n",
    "    #calculate the difference between each data point and the average\n",
    "    for x in args:\n",
    "        list2.append(x - average)\n",
    "    #square each value returned from the above calculation\n",
    "    for i in list2:\n",
    "        list3.append(i ** 2)\n",
    "    #Initialize sum all \n",
    "    sum_all1 = 0\n",
    "    #Accumulate the sum of the above (squared) calculation\n",
    "    for x in list3:\n",
    "        sum_all1 += x\n",
    "    div = sum_all1 / length\n",
    "    print('Variance :', div)"
   ]
  },
  {
   "cell_type": "code",
   "execution_count": null,
   "metadata": {},
   "outputs": [],
   "source": []
  }
 ],
 "metadata": {
  "kernelspec": {
   "display_name": "Python 3",
   "language": "python",
   "name": "python3"
  },
  "language_info": {
   "codemirror_mode": {
    "name": "ipython",
    "version": 3
   },
   "file_extension": ".py",
   "mimetype": "text/x-python",
   "name": "python",
   "nbconvert_exporter": "python",
   "pygments_lexer": "ipython3",
   "version": "3.8.3"
  }
 },
 "nbformat": 4,
 "nbformat_minor": 4
}
